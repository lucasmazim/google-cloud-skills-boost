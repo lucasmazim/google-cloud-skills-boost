{
 "cells": [
  {
   "cell_type": "code",
   "execution_count": null,
   "id": "3374e31b-6782-4a83-b826-cdab04fba076",
   "metadata": {
    "tags": []
   },
   "outputs": [],
   "source": [
    "USER_FLAG = \"--user\"\n",
    "!pip3 install {USER_FLAG} google-cloud-aiplatform --upgrade\n",
    "!pip3 install {USER_FLAG} kfp google-cloud-pipeline-components\n",
    "!pip3 install {USER_FLAG} fsspec gcsfs scikit-learn\n",
    "!pip3 install -U google-cloud-aiplatform \"shapely>2\"\n",
    "!pip3 install docstring-parser\n",
    "!pip3 install kfp"
   ]
  },
  {
   "cell_type": "code",
   "execution_count": null,
   "id": "8570c396-6c57-45c1-9bd3-75c16b73bfb0",
   "metadata": {
    "tags": []
   },
   "outputs": [],
   "source": [
    "import os\n",
    "\n",
    "if not os.getenv(\"IS_TESTING\"):\n",
    "    # Automatically restart kernel after installs\n",
    "    import IPython\n",
    "\n",
    "    app = IPython.Application.instance()\n",
    "    app.kernel.do_shutdown(True)\n"
   ]
  },
  {
   "cell_type": "code",
   "execution_count": null,
   "id": "afdb6e85-96a8-4e32-a965-42a7a6ddaed5",
   "metadata": {
    "tags": []
   },
   "outputs": [],
   "source": [
    "!python3 -c \"import kfp; print('KFP SDK version: {}'.format(kfp.__version__))\"\n",
    "!python3 -c \"import google_cloud_pipeline_components; print('google_cloud_pipeline_components version: {}'.format(google_cloud_pipeline_components.__version__))\"\n",
    "!python3 -c \"import docstring_parser\"\n",
    "!python3 -c \"import kfp.pipeline_spec\""
   ]
  },
  {
   "cell_type": "code",
   "execution_count": null,
   "id": "9610c306-23de-42b4-910f-ca88c074579d",
   "metadata": {
    "tags": []
   },
   "outputs": [],
   "source": [
    "import os\n",
    "PROJECT_ID = \"\"\n",
    "if not os.getenv(\"IS_TESTING\"):\n",
    "    shell_output=!gcloud config list --format 'value(core.project)' 2>/dev/null\n",
    "    PROJECT_ID = shell_output[0]\n",
    "    BUCKET_NAME=\"gs://\" + PROJECT_ID + \"-bucket\"\n",
    "    REGION='us-central1'\n",
    "    os.environ['PROJECT_ID'] = PROJECT_ID\n",
    "    os.environ['BUCKET_NAME'] = BUCKET_NAME\n",
    "    os.environ['REGION'] = REGION\n",
    "    print(\"Project ID: \", PROJECT_ID)\n",
    "    print(\"Bucket Name: \", BUCKET_NAME)\n",
    "    print(\"Region: \", REGION)\n"
   ]
  },
  {
   "cell_type": "code",
   "execution_count": null,
   "id": "56e2fc09-d30f-4b78-9731-dd1ce3e0055f",
   "metadata": {
    "tags": []
   },
   "outputs": [],
   "source": [
    "!wget https://storage.googleapis.com/partner-usecase-bucket/ucase011/dataset_large.csv\n",
    "!wget https://storage.googleapis.com/partner-usecase-bucket/ucase011/dataset_small.csv"
   ]
  },
  {
   "cell_type": "code",
   "execution_count": null,
   "id": "1e005815-44f4-409a-9736-f1bbc980ada4",
   "metadata": {
    "tags": []
   },
   "outputs": [],
   "source": [
    "!mkdir data\n",
    "!mv dataset_large.csv data\n",
    "!mv dataset_small.csv data"
   ]
  },
  {
   "cell_type": "code",
   "execution_count": null,
   "id": "d55a0f01-bd5c-4d21-9c4b-ff10c544a121",
   "metadata": {
    "tags": []
   },
   "outputs": [],
   "source": [
    "! gsutil cp ./data/dataset_large.csv $BUCKET_NAME\n",
    "! gsutil cp ./data/dataset_small.csv $BUCKET_NAME"
   ]
  },
  {
   "cell_type": "code",
   "execution_count": null,
   "id": "12b72c35-2bc1-4991-a4b9-1d3aedd6b39f",
   "metadata": {
    "tags": []
   },
   "outputs": [],
   "source": [
    "import os\n",
    "import pprint as pp\n",
    "import sys\n",
    "import docstring_parser\n",
    "import kfp.pipeline_spec\n",
    "import pickle\n",
    "import argparse\n",
    "\n",
    "import matplotlib.pyplot as plt\n",
    "import numpy as np\n",
    "import pandas as pd\n",
    "\n",
    "from kfp import compiler, dsl\n",
    "from kfp.dsl import pipeline, component, Artifact, Dataset, Input, Metrics, Model, Output, InputPath, OutputPath\n",
    "\n",
    "from google.cloud import aiplatform\n",
    "\n",
    "# We'll use this namespace for metadata querying\n",
    "from google.cloud import aiplatform_v1\n"
   ]
  },
  {
   "cell_type": "code",
   "execution_count": null,
   "id": "90154f8b-9e08-4c47-9c6c-081d9ac99552",
   "metadata": {
    "tags": []
   },
   "outputs": [],
   "source": [
    "url = BUCKET_NAME+\"/dataset_large.csv\"\n",
    "data = pd.read_csv(url)\n",
    "data.head()"
   ]
  },
  {
   "cell_type": "code",
   "execution_count": null,
   "id": "6c0918f1-879f-44fc-add6-a1d7dd3e355c",
   "metadata": {
    "tags": []
   },
   "outputs": [],
   "source": [
    "PATH=%env PATH\n",
    "%env PATH={PATH}:/home/jupyter/.local/bin\n",
    "\n",
    "PIPELINE_ROOT = f\"{BUCKET_NAME}/pipeline_root/\"\n",
    "PIPELINE_ROOT"
   ]
  },
  {
   "cell_type": "code",
   "execution_count": null,
   "id": "281205a9-0a95-4943-9a42-5d86ec013c4c",
   "metadata": {
    "tags": []
   },
   "outputs": [],
   "source": [
    "modelling_columns = [\"Area\" \n",
    "                     , \"Perimeter\" \n",
    "                     ,\"MajorAxisLength\" \n",
    "                     ,\"MinorAxisLength\" \n",
    "                     ,\"AspectRation\" \n",
    "                     , \"Eccentricity\" \n",
    "                     , \"ConvexArea\" \n",
    "                     , \"EquivDiameter\" \n",
    "                     , \"Extent\" \n",
    "                     , \"Solidity\" \n",
    "                     , \"roundness\" \n",
    "                     , \"Compactness\" \n",
    "                     , \"ShapeFactor1\" \n",
    "                     , \"ShapeFactor2\" \n",
    "                     , \"ShapeFactor3\"\n",
    "                     , \"ShapeFactor4\"\n",
    "                     , \"Class\"\n",
    "                    ]\n",
    "data = data[modelling_columns]"
   ]
  },
  {
   "cell_type": "code",
   "execution_count": null,
   "id": "d609ff41-d3a1-40af-a511-6de78d94b514",
   "metadata": {
    "tags": []
   },
   "outputs": [],
   "source": [
    "from sklearn.tree import DecisionTreeClassifier\n",
    "from sklearn.metrics import roc_curve\n",
    "from sklearn.model_selection import train_test_split\n",
    "from joblib import dump\n",
    "from kfp.dsl import Metrics\n",
    "import pandas as pd\n",
    "import docstring_parser\n",
    "import kfp.pipeline_spec\n",
    "import kfp.dsl\n",
    "df = pd.read_csv(url)\n",
    "labels = df.pop(\"Class\").tolist()\n",
    "data = df.values.tolist()\n",
    "x_train, x_test, y_train, y_test = train_test_split(data, labels)\n",
    "\n",
    "skmodel = DecisionTreeClassifier()\n",
    "skmodel.fit(x_train,y_train)\n",
    "score = skmodel.score(x_test,y_test)\n",
    "print('accuracy is:',score)\n",
    "\n",
    "metrics = Metrics()\n",
    "metrics.log_metric(\"accuracy\",(score * 100.0))\n",
    "metrics.log_metric(\"framework\", \"Scikit Learn\")\n",
    "metrics.log_metric(\"dataset_size\", len(df))\n",
    "\n",
    "MODEL_PATH=BUCKET_NAME+\"/models/\"\n",
    "model_path = \"./\" + \"model.pkl\"\n",
    "with open(model_path, 'wb') as file:  \n",
    "    pickle.dump(skmodel, file)\n",
    "    \n",
    "#copy model artifacts to GCS storage\n",
    "!gsutil cp \"model.pkl\" $MODEL_PATH\n"
   ]
  },
  {
   "cell_type": "code",
   "execution_count": null,
   "id": "addbb479-30c9-4b64-a342-498bae2f859c",
   "metadata": {
    "tags": []
   },
   "outputs": [],
   "source": [
    "#Prediction containers list available at : https://cloud.google.com/vertex-ai/docs/predictions/pre-built-containers\n",
    "serving_container_uri = \"us-docker.pkg.dev/vertex-ai/prediction/sklearn-cpu.1-3:latest\"\n",
    "\n",
    "#define GCS location for model artifacts\n",
    "artifact_uri = MODEL_PATH\n",
    "\n",
    "#Upload Model to Vertex AI Model Registry using Python SDK\n",
    "model = aiplatform.Model.upload(display_name= \"vertex-metadata\" ,\n",
    "                                    artifact_uri=artifact_uri,\n",
    "                                    serving_container_image_uri=serving_container_uri)\n"
   ]
  },
  {
   "cell_type": "code",
   "execution_count": null,
   "id": "b8564d33-76cf-480f-a68f-7de6c685b2d0",
   "metadata": {
    "tags": []
   },
   "outputs": [],
   "source": [
    "#Create the model endpoint using Python SDK\n",
    "endpoint = model.deploy(machine_type=\"n1-standard-4\",\n",
    "                        min_replica_count=1,\n",
    "                        max_replica_count=1)\n",
    "\n",
    "## This step can take up to 15 minutes to complete! Wait for the asterisk next to the cell to turn into a number before proceeding to the next cell!!"
   ]
  },
  {
   "cell_type": "code",
   "execution_count": null,
   "id": "a0a9186b-3625-4b97-b003-97167eb56e55",
   "metadata": {
    "tags": []
   },
   "outputs": [],
   "source": [
    "@component(\n",
    "    packages_to_install=[\"pandas\", \"pyarrow\", \"db-dtypes\", \"fsspec\", \"gcsfs\", \"docstring_parser\", \"kfp.pipeline_spec\", \"kfp.dsl\"],\n",
    "    base_image=\"python:3.9\",\n",
    "    output_component_file=\"create_dataset.yaml\"\n",
    ")\n",
    "def get_dataframe(\n",
    "    bucket_name: str,\n",
    "    file_name: str,\n",
    "    output_data_path: OutputPath(\"Dataset\")\n",
    "):\n",
    "    import pandas as pd\n",
    "    import os\n",
    "\n",
    "    project_number = os.environ[\"CLOUD_ML_PROJECT_ID\"]\n",
    "    \n",
    "    url = bucket_name+\"/\" + file_name\n",
    "    df = pd.read_csv(url)\n",
    "    df.to_csv(output_data_path)"
   ]
  },
  {
   "cell_type": "code",
   "execution_count": null,
   "id": "85e29e3f-5f83-4752-9d9b-f3298958680c",
   "metadata": {
    "tags": []
   },
   "outputs": [],
   "source": [
    "@component(\n",
    "    packages_to_install=[\"scikit-learn==1.4.2\", \"numpy==1.24.4\", \"pandas\", \"joblib\", \"db-dtypes\", \"google-cloud-storage\", \"docstring_parser\", \"kfp.pipeline_spec\", \"kfp.dsl\"],\n",
    "    base_image=\"python:3.9\",\n",
    "    output_component_file=\"beans_model_component.yaml\",\n",
    ")\n",
    "def sklearn_train(\n",
    "    project_id: str,\n",
    "    bucket_name: str,\n",
    "    dataset: Input[Dataset],\n",
    "    metrics: Output[Metrics],\n",
    "    model: Output[Model]\n",
    "):\n",
    "    from sklearn.tree import DecisionTreeClassifier\n",
    "    from sklearn.metrics import roc_curve\n",
    "    from sklearn.model_selection import train_test_split\n",
    "    from joblib import dump\n",
    "    from kfp.dsl import Metrics\n",
    "    from google.cloud import storage\n",
    "    import pandas as pd\n",
    "    import os\n",
    "    import pickle\n",
    "    \n",
    "    df = pd.read_csv(dataset.path)\n",
    "    labels = df.pop(\"Class\").tolist()\n",
    "    data = df.values.tolist()\n",
    "    x_train, x_test, y_train, y_test = train_test_split(data, labels)\n",
    "\n",
    "    model = DecisionTreeClassifier()\n",
    "    model.fit(x_train,y_train)\n",
    "    score = model.score(x_test,y_test)\n",
    "    print('accuracy is:',score)\n",
    "    \n",
    "    metrics.log_metric(\"accuracy\",(score * 100.0))\n",
    "    metrics.log_metric(\"framework\", \"Scikit Learn\")\n",
    "    metrics.log_metric(\"dataset_size\", len(df))\n",
    "    \n",
    "    model_path = \"./\" + \"model.pkl\"\n",
    "    with open(model_path, 'wb') as file:\n",
    "        pickle.dump(model, file)\n",
    "    \n",
    "    #copy model artifact to GCS storage\n",
    "    client = storage.Client(project=project_id)\n",
    "    bucket = client.get_bucket(f\"{project_id}-bucket\")\n",
    "    blob = bucket.blob(\"models/model.pkl\")\n",
    "    blob.upload_from_filename(\"model.pkl\")\n",
    "\n",
    "    print(\"File uploaded to {}.\".format(bucket.name))\n",
    "    "
   ]
  },
  {
   "cell_type": "code",
   "execution_count": null,
   "id": "060c9272-b431-4a03-9133-9000c0d4374d",
   "metadata": {
    "tags": []
   },
   "outputs": [],
   "source": [
    "@component(\n",
    "    packages_to_install=[\"google-cloud-aiplatform\", \"scikit-learn==1.4.2\", \"numpy==1.24.4\", \"pandas\", \"joblib\", \"db-dtypes\", \"google-cloud-storage\", \"docstring_parser\", \"kfp.pipeline_spec\", \"kfp.dsl\"],\n",
    "    base_image=\"python:3.9\",\n",
    "    output_component_file=\"beans_deploy_component.yaml\",\n",
    ")\n",
    "def deploy_model(\n",
    "    model: Input[Model],\n",
    "    project: str,\n",
    "    region: str,\n",
    "    bucket_name: str,\n",
    "    vertex_endpoint: Output[Artifact],\n",
    "    vertex_model: Output[Model]\n",
    "):\n",
    "    from google.cloud import aiplatform\n",
    "    import os\n",
    "    \n",
    "    MODEL_PATH=bucket_name+\"/models/\"\n",
    "\n",
    "    aiplatform.init(project=project, location=region)\n",
    "\n",
    "    deployed_model = aiplatform.Model.upload(\n",
    "        display_name=\"beans-model-pipeline\",\n",
    "        artifact_uri = MODEL_PATH,\n",
    "        serving_container_image_uri=\"us-docker.pkg.dev/vertex-ai/prediction/sklearn-cpu.1-3:latest\"\n",
    "    )\n",
    "    endpoint = deployed_model.deploy(machine_type=\"n1-standard-4\")\n",
    "\n",
    "    # Save data to the output params\n",
    "    vertex_endpoint.uri = endpoint.resource_name\n",
    "    vertex_model.uri = deployed_model.resource_name"
   ]
  },
  {
   "cell_type": "code",
   "execution_count": null,
   "id": "2c2bbe42-193e-45ec-b632-a583d28eb913",
   "metadata": {
    "tags": []
   },
   "outputs": [],
   "source": [
    "PATH=%env PATH\n",
    "%env PATH={PATH}:/home/jupyter/.local/bin\n",
    "REGION=\"us-central1\"\n",
    "\n",
    "PIPELINE_ROOT = f\"{BUCKET_NAME}/pipeline_root/\"\n",
    "PIPELINE_ROOT"
   ]
  },
  {
   "cell_type": "code",
   "execution_count": null,
   "id": "a5f84e36-37b2-4886-9fb8-de474aa392f4",
   "metadata": {
    "tags": []
   },
   "outputs": [],
   "source": [
    "FILE_NAME=\"dataset_small.csv\""
   ]
  },
  {
   "cell_type": "code",
   "execution_count": null,
   "id": "a2c98fd9-551c-4cb4-abf0-21bdee7af71d",
   "metadata": {
    "tags": []
   },
   "outputs": [],
   "source": [
    "import matplotlib.pyplot as plt\n",
    "import pandas as pd\n",
    "\n",
    "from kfp import compiler, dsl\n",
    "from kfp.dsl import pipeline, component, Artifact, Dataset, Input, Metrics, Model, Output, InputPath, OutputPath\n",
    "import docstring_parser\n",
    "import kfp.pipeline_spec\n",
    "import kfp.dsl\n",
    "from google.cloud import aiplatform\n",
    "\n",
    "# We'll use this namespace for metadata querying\n",
    "from google.cloud import aiplatform_v1\n",
    "\n",
    "@pipeline(\n",
    "    # Default pipeline root. You can override it when submitting the pipeline.\n",
    "    pipeline_root=PIPELINE_ROOT,\n",
    "    # A name for the pipeline.\n",
    "    name=\"mlmd-pipeline\",\n",
    ")\n",
    "def pipeline(\n",
    "    bucket_name: str = BUCKET_NAME,\n",
    "    file_name: str = FILE_NAME,\n",
    "    output_data_path: str = \"data.csv\",\n",
    "    project: str = PROJECT_ID,\n",
    "    region: str = REGION\n",
    "):\n",
    "    dataset_task = get_dataframe(bucket_name=BUCKET_NAME, file_name=FILE_NAME)\n",
    "    print(dataset_task.outputs)\n",
    "    model_task = sklearn_train(\n",
    "        project_id = PROJECT_ID,\n",
    "        bucket_name = BUCKET_NAME,\n",
    "        dataset = dataset_task.outputs['output_data_path']\n",
    "    )\n",
    "\n",
    "    deploy_task = deploy_model(\n",
    "        model=model_task.outputs[\"model\"],\n",
    "        project=PROJECT_ID,\n",
    "        region=REGION,\n",
    "        bucket_name=BUCKET_NAME\n",
    "    )\n",
    "\n"
   ]
  },
  {
   "cell_type": "code",
   "execution_count": null,
   "id": "c58a2c29-d6b7-4861-a330-4803b29ce6da",
   "metadata": {
    "tags": []
   },
   "outputs": [],
   "source": [
    "compiler.Compiler().compile(\n",
    "    pipeline_func=pipeline, package_path=\"mlmd_pipeline.json\"\n",
    ")"
   ]
  },
  {
   "cell_type": "code",
   "execution_count": null,
   "id": "d6fc0cfb-5242-4b29-a4e1-5c594fcedda2",
   "metadata": {
    "tags": []
   },
   "outputs": [],
   "source": [
    "from datetime import datetime\n",
    "\n",
    "TIMESTAMP = datetime.now().strftime(\"%Y%m%d%H%M%S\")\n"
   ]
  },
  {
   "cell_type": "code",
   "execution_count": null,
   "id": "663e1461-2403-4a64-8d01-f9989751bc99",
   "metadata": {
    "tags": []
   },
   "outputs": [],
   "source": [
    "run1 = aiplatform.PipelineJob(\n",
    "    display_name=\"mlmd-pipeline\",\n",
    "    template_path=\"mlmd_pipeline.json\",\n",
    "    job_id=\"mlmd-pipeline-small-{0}\".format(TIMESTAMP),\n",
    "    parameter_values={\"bucket_name\": os.environ[\"BUCKET_NAME\"], \"file_name\":f\"{FILE_NAME}\", \"project\": os.environ[\"PROJECT_ID\"], \"region\": os.environ[\"REGION\"]},\n",
    "    enable_caching=True,\n",
    ")\n"
   ]
  },
  {
   "cell_type": "code",
   "execution_count": null,
   "id": "bc20927f-83f0-4e7b-a088-6f483d2585d0",
   "metadata": {
    "tags": []
   },
   "outputs": [],
   "source": [
    "run1.submit()"
   ]
  },
  {
   "cell_type": "code",
   "execution_count": null,
   "id": "e0a1dff0-5268-451a-ac35-d2fd68d8287c",
   "metadata": {
    "tags": []
   },
   "outputs": [],
   "source": [
    "FILE_NAME=\"dataset_large.csv\""
   ]
  },
  {
   "cell_type": "code",
   "execution_count": null,
   "id": "972ee946-edcf-443e-a68c-68008affa201",
   "metadata": {
    "tags": []
   },
   "outputs": [],
   "source": [
    "run2 = aiplatform.PipelineJob(\n",
    "    display_name=\"mlmd-pipeline\",\n",
    "    template_path=\"mlmd_pipeline.json\",\n",
    "    job_id=\"mlmd-pipeline-large-{0}\".format(TIMESTAMP),\n",
    "    parameter_values={\"bucket_name\": os.environ[\"BUCKET_NAME\"], \"file_name\":f\"{FILE_NAME}\", \"project\": os.environ[\"PROJECT_ID\"], \"region\": os.environ[\"REGION\"]},\n",
    "    enable_caching=True,\n",
    ")\n"
   ]
  },
  {
   "cell_type": "code",
   "execution_count": null,
   "id": "e2f14c01-e42f-4b7c-b2c3-931d1abd5f76",
   "metadata": {
    "tags": []
   },
   "outputs": [],
   "source": [
    "run2.submit()"
   ]
  },
  {
   "cell_type": "code",
   "execution_count": null,
   "id": "191a06dc-2fa5-4f5e-b23a-c1c95ba99fee",
   "metadata": {},
   "outputs": [],
   "source": [
    "API_ENDPOINT = \"{}-aiplatform.googleapis.com\".format(REGION)\n",
    "metadata_client = aiplatform_v1.MetadataServiceClient(\n",
    "  client_options={\n",
    "      \"api_endpoint\": API_ENDPOINT\n",
    "  }\n",
    ")"
   ]
  },
  {
   "cell_type": "code",
   "execution_count": null,
   "id": "93d1fca5-4c3e-4dd3-b7be-c706d0d9814c",
   "metadata": {},
   "outputs": [],
   "source": [
    "MODEL_FILTER=\"schema_title = \\\"system.Model\\\"\"\n",
    "artifact_request = aiplatform_v1.ListArtifactsRequest(\n",
    "    parent=\"projects/{0}/locations/{1}/metadataStores/default\".format(PROJECT_ID, REGION),\n",
    "    filter=MODEL_FILTER\n",
    ")\n",
    "model_artifacts = metadata_client.list_artifacts(artifact_request)"
   ]
  },
  {
   "cell_type": "code",
   "execution_count": null,
   "id": "90935d21-bb07-4407-abf4-e42484f43b4e",
   "metadata": {},
   "outputs": [],
   "source": [
    "LIVE_FILTER = \"create_time > \\\"2021-08-10T00:00:00-00:00\\\" AND state = LIVE\"\n",
    "artifact_req = {\n",
    "    \"parent\": \"projects/{0}/locations/{1}/metadataStores/default\".format(PROJECT_ID, REGION),\n",
    "    \"filter\": LIVE_FILTER\n",
    "}\n",
    "live_artifacts = metadata_client.list_artifacts(artifact_req)\n"
   ]
  },
  {
   "cell_type": "code",
   "execution_count": null,
   "id": "a6593ccb-f223-4483-ab92-7bcef63f2c31",
   "metadata": {},
   "outputs": [],
   "source": [
    "data = {'uri': [], 'createTime': [], 'type': []}\n",
    "\n",
    "for i in live_artifacts:\n",
    "    data['uri'].append(i.uri)\n",
    "    data['createTime'].append(i.create_time)\n",
    "    data['type'].append(i.schema_title)\n",
    "\n",
    "df = pd.DataFrame.from_dict(data)\n",
    "df\n"
   ]
  }
 ],
 "metadata": {
  "environment": {
   "kernel": "conda-base-py",
   "name": "tf2-gpu.2-15.m124",
   "type": "gcloud",
   "uri": "us-docker.pkg.dev/deeplearning-platform-release/gcr.io/tf2-gpu.2-15:m124"
  },
  "kernelspec": {
   "display_name": "Python [conda env:base] * (Local)",
   "language": "python",
   "name": "conda-base-py"
  },
  "language_info": {
   "codemirror_mode": {
    "name": "ipython",
    "version": 3
   },
   "file_extension": ".py",
   "mimetype": "text/x-python",
   "name": "python",
   "nbconvert_exporter": "python",
   "pygments_lexer": "ipython3",
   "version": "3.10.14"
  }
 },
 "nbformat": 4,
 "nbformat_minor": 5
}
